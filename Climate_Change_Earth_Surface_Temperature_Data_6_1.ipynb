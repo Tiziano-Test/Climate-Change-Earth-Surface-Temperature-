{
  "nbformat": 4,
  "nbformat_minor": 0,
  "metadata": {
    "colab": {
      "provenance": [],
      "authorship_tag": "ABX9TyNFVgdaH46uccJeuHoCtDzU",
      "include_colab_link": true
    },
    "kernelspec": {
      "name": "python3",
      "display_name": "Python 3"
    },
    "language_info": {
      "name": "python"
    }
  },
  "cells": [
    {
      "cell_type": "markdown",
      "metadata": {
        "id": "view-in-github",
        "colab_type": "text"
      },
      "source": [
        "<a href=\"https://colab.research.google.com/github/Tiziano-Test/Climate-Change-Earth-Surface-Temperature-/blob/main/Climate_Change_Earth_Surface_Temperature_Data_6_1.ipynb\" target=\"_parent\"><img src=\"https://colab.research.google.com/assets/colab-badge.svg\" alt=\"Open In Colab\"/></a>"
      ]
    },
    {
      "cell_type": "code",
      "execution_count": null,
      "metadata": {
        "id": "UFa0kWiftmio"
      },
      "outputs": [],
      "source": []
    },
    {
      "cell_type": "markdown",
      "source": [
        "Step 1: Source the Data\n",
        "Ensure the dataset meets the project criteria.\n",
        "Dataset:\n",
        "•\tName: Global Land Temperatures By City\n",
        "•\tSource: Kaggle - Berkeley Earth\n",
        "•\tCriteria Check:\n",
        "o\tOpen source: Yes\n",
        "o\tAuthentic source: Yes, from Berkeley Earth via Kaggle\n",
        "o\tNon-anonymized column names: Yes\n",
        "o\tData recency: Data available until 2013 (meets the 10-year requirement)\n",
        "o\tContinuous variables: At least two (e.g., AverageTemperature, AverageTemperatureUncertainty)\n",
        "o\tCategorical variables: At least two (e.g., City, Country)\n",
        "o\tNumber of rows: Over 1.6 million rows\n",
        "o\tGeographical component: Cities and countries\n",
        "\n"
      ],
      "metadata": {
        "id": "WsKD3KAztvJK"
      }
    },
    {
      "cell_type": "markdown",
      "source": [
        "Step 2: Download and Load the Dataset"
      ],
      "metadata": {
        "id": "o1y7Q_hauAJH"
      }
    },
    {
      "cell_type": "code",
      "source": [],
      "metadata": {
        "id": "0PWzeO1MuBI2"
      },
      "execution_count": null,
      "outputs": []
    },
    {
      "cell_type": "code",
      "execution_count": null,
      "metadata": {
        "colab": {
          "base_uri": "https://localhost:8080/",
          "height": 523
        },
        "id": "MWu-p8PzSjYx",
        "outputId": "d7769e18-70d9-4375-b150-2307a1b7ec0f"
      },
      "outputs": [
        {
          "output_type": "stream",
          "name": "stdout",
          "text": [
            "Requirement already satisfied: kaggle in /usr/local/lib/python3.10/dist-packages (1.6.14)\n",
            "Requirement already satisfied: six>=1.10 in /usr/local/lib/python3.10/dist-packages (from kaggle) (1.16.0)\n",
            "Requirement already satisfied: certifi>=2023.7.22 in /usr/local/lib/python3.10/dist-packages (from kaggle) (2024.6.2)\n",
            "Requirement already satisfied: python-dateutil in /usr/local/lib/python3.10/dist-packages (from kaggle) (2.8.2)\n",
            "Requirement already satisfied: requests in /usr/local/lib/python3.10/dist-packages (from kaggle) (2.31.0)\n",
            "Requirement already satisfied: tqdm in /usr/local/lib/python3.10/dist-packages (from kaggle) (4.66.4)\n",
            "Requirement already satisfied: python-slugify in /usr/local/lib/python3.10/dist-packages (from kaggle) (8.0.4)\n",
            "Requirement already satisfied: urllib3 in /usr/local/lib/python3.10/dist-packages (from kaggle) (2.0.7)\n",
            "Requirement already satisfied: bleach in /usr/local/lib/python3.10/dist-packages (from kaggle) (6.1.0)\n",
            "Requirement already satisfied: webencodings in /usr/local/lib/python3.10/dist-packages (from bleach->kaggle) (0.5.1)\n",
            "Requirement already satisfied: text-unidecode>=1.3 in /usr/local/lib/python3.10/dist-packages (from python-slugify->kaggle) (1.3)\n",
            "Requirement already satisfied: charset-normalizer<4,>=2 in /usr/local/lib/python3.10/dist-packages (from requests->kaggle) (3.3.2)\n",
            "Requirement already satisfied: idna<4,>=2.5 in /usr/local/lib/python3.10/dist-packages (from requests->kaggle) (3.7)\n"
          ]
        },
        {
          "output_type": "display_data",
          "data": {
            "text/plain": [
              "<IPython.core.display.HTML object>"
            ],
            "text/html": [
              "\n",
              "     <input type=\"file\" id=\"files-690f7077-330c-4179-8fef-5abfa2e5c95e\" name=\"files[]\" multiple disabled\n",
              "        style=\"border:none\" />\n",
              "     <output id=\"result-690f7077-330c-4179-8fef-5abfa2e5c95e\">\n",
              "      Upload widget is only available when the cell has been executed in the\n",
              "      current browser session. Please rerun this cell to enable.\n",
              "      </output>\n",
              "      <script>// Copyright 2017 Google LLC\n",
              "//\n",
              "// Licensed under the Apache License, Version 2.0 (the \"License\");\n",
              "// you may not use this file except in compliance with the License.\n",
              "// You may obtain a copy of the License at\n",
              "//\n",
              "//      http://www.apache.org/licenses/LICENSE-2.0\n",
              "//\n",
              "// Unless required by applicable law or agreed to in writing, software\n",
              "// distributed under the License is distributed on an \"AS IS\" BASIS,\n",
              "// WITHOUT WARRANTIES OR CONDITIONS OF ANY KIND, either express or implied.\n",
              "// See the License for the specific language governing permissions and\n",
              "// limitations under the License.\n",
              "\n",
              "/**\n",
              " * @fileoverview Helpers for google.colab Python module.\n",
              " */\n",
              "(function(scope) {\n",
              "function span(text, styleAttributes = {}) {\n",
              "  const element = document.createElement('span');\n",
              "  element.textContent = text;\n",
              "  for (const key of Object.keys(styleAttributes)) {\n",
              "    element.style[key] = styleAttributes[key];\n",
              "  }\n",
              "  return element;\n",
              "}\n",
              "\n",
              "// Max number of bytes which will be uploaded at a time.\n",
              "const MAX_PAYLOAD_SIZE = 100 * 1024;\n",
              "\n",
              "function _uploadFiles(inputId, outputId) {\n",
              "  const steps = uploadFilesStep(inputId, outputId);\n",
              "  const outputElement = document.getElementById(outputId);\n",
              "  // Cache steps on the outputElement to make it available for the next call\n",
              "  // to uploadFilesContinue from Python.\n",
              "  outputElement.steps = steps;\n",
              "\n",
              "  return _uploadFilesContinue(outputId);\n",
              "}\n",
              "\n",
              "// This is roughly an async generator (not supported in the browser yet),\n",
              "// where there are multiple asynchronous steps and the Python side is going\n",
              "// to poll for completion of each step.\n",
              "// This uses a Promise to block the python side on completion of each step,\n",
              "// then passes the result of the previous step as the input to the next step.\n",
              "function _uploadFilesContinue(outputId) {\n",
              "  const outputElement = document.getElementById(outputId);\n",
              "  const steps = outputElement.steps;\n",
              "\n",
              "  const next = steps.next(outputElement.lastPromiseValue);\n",
              "  return Promise.resolve(next.value.promise).then((value) => {\n",
              "    // Cache the last promise value to make it available to the next\n",
              "    // step of the generator.\n",
              "    outputElement.lastPromiseValue = value;\n",
              "    return next.value.response;\n",
              "  });\n",
              "}\n",
              "\n",
              "/**\n",
              " * Generator function which is called between each async step of the upload\n",
              " * process.\n",
              " * @param {string} inputId Element ID of the input file picker element.\n",
              " * @param {string} outputId Element ID of the output display.\n",
              " * @return {!Iterable<!Object>} Iterable of next steps.\n",
              " */\n",
              "function* uploadFilesStep(inputId, outputId) {\n",
              "  const inputElement = document.getElementById(inputId);\n",
              "  inputElement.disabled = false;\n",
              "\n",
              "  const outputElement = document.getElementById(outputId);\n",
              "  outputElement.innerHTML = '';\n",
              "\n",
              "  const pickedPromise = new Promise((resolve) => {\n",
              "    inputElement.addEventListener('change', (e) => {\n",
              "      resolve(e.target.files);\n",
              "    });\n",
              "  });\n",
              "\n",
              "  const cancel = document.createElement('button');\n",
              "  inputElement.parentElement.appendChild(cancel);\n",
              "  cancel.textContent = 'Cancel upload';\n",
              "  const cancelPromise = new Promise((resolve) => {\n",
              "    cancel.onclick = () => {\n",
              "      resolve(null);\n",
              "    };\n",
              "  });\n",
              "\n",
              "  // Wait for the user to pick the files.\n",
              "  const files = yield {\n",
              "    promise: Promise.race([pickedPromise, cancelPromise]),\n",
              "    response: {\n",
              "      action: 'starting',\n",
              "    }\n",
              "  };\n",
              "\n",
              "  cancel.remove();\n",
              "\n",
              "  // Disable the input element since further picks are not allowed.\n",
              "  inputElement.disabled = true;\n",
              "\n",
              "  if (!files) {\n",
              "    return {\n",
              "      response: {\n",
              "        action: 'complete',\n",
              "      }\n",
              "    };\n",
              "  }\n",
              "\n",
              "  for (const file of files) {\n",
              "    const li = document.createElement('li');\n",
              "    li.append(span(file.name, {fontWeight: 'bold'}));\n",
              "    li.append(span(\n",
              "        `(${file.type || 'n/a'}) - ${file.size} bytes, ` +\n",
              "        `last modified: ${\n",
              "            file.lastModifiedDate ? file.lastModifiedDate.toLocaleDateString() :\n",
              "                                    'n/a'} - `));\n",
              "    const percent = span('0% done');\n",
              "    li.appendChild(percent);\n",
              "\n",
              "    outputElement.appendChild(li);\n",
              "\n",
              "    const fileDataPromise = new Promise((resolve) => {\n",
              "      const reader = new FileReader();\n",
              "      reader.onload = (e) => {\n",
              "        resolve(e.target.result);\n",
              "      };\n",
              "      reader.readAsArrayBuffer(file);\n",
              "    });\n",
              "    // Wait for the data to be ready.\n",
              "    let fileData = yield {\n",
              "      promise: fileDataPromise,\n",
              "      response: {\n",
              "        action: 'continue',\n",
              "      }\n",
              "    };\n",
              "\n",
              "    // Use a chunked sending to avoid message size limits. See b/62115660.\n",
              "    let position = 0;\n",
              "    do {\n",
              "      const length = Math.min(fileData.byteLength - position, MAX_PAYLOAD_SIZE);\n",
              "      const chunk = new Uint8Array(fileData, position, length);\n",
              "      position += length;\n",
              "\n",
              "      const base64 = btoa(String.fromCharCode.apply(null, chunk));\n",
              "      yield {\n",
              "        response: {\n",
              "          action: 'append',\n",
              "          file: file.name,\n",
              "          data: base64,\n",
              "        },\n",
              "      };\n",
              "\n",
              "      let percentDone = fileData.byteLength === 0 ?\n",
              "          100 :\n",
              "          Math.round((position / fileData.byteLength) * 100);\n",
              "      percent.textContent = `${percentDone}% done`;\n",
              "\n",
              "    } while (position < fileData.byteLength);\n",
              "  }\n",
              "\n",
              "  // All done.\n",
              "  yield {\n",
              "    response: {\n",
              "      action: 'complete',\n",
              "    }\n",
              "  };\n",
              "}\n",
              "\n",
              "scope.google = scope.google || {};\n",
              "scope.google.colab = scope.google.colab || {};\n",
              "scope.google.colab._files = {\n",
              "  _uploadFiles,\n",
              "  _uploadFilesContinue,\n",
              "};\n",
              "})(self);\n",
              "</script> "
            ]
          },
          "metadata": {}
        },
        {
          "output_type": "stream",
          "name": "stdout",
          "text": [
            "Saving Global Land Temperatures By City.zip to Global Land Temperatures By City.zip\n",
            "cp: cannot stat 'kaggle.json': No such file or directory\n",
            "chmod: cannot access '/root/.kaggle/kaggle.json': No such file or directory\n",
            "Dataset URL: https://www.kaggle.com/datasets/berkeleyearth/climate-change-earth-surface-temperature-data\n",
            "License(s): CC-BY-NC-SA-4.0\n",
            "Downloading climate-change-earth-surface-temperature-data.zip to /content\n",
            " 99% 84.0M/84.7M [00:04<00:00, 14.2MB/s]\n",
            "100% 84.7M/84.7M [00:04<00:00, 19.7MB/s]\n",
            "Archive:  climate-change-earth-surface-temperature-data.zip\n",
            "  inflating: GlobalLandTemperaturesByCity.csv  \n",
            "  inflating: GlobalLandTemperaturesByCountry.csv  \n",
            "  inflating: GlobalLandTemperaturesByMajorCity.csv  \n",
            "  inflating: GlobalLandTemperaturesByState.csv  \n",
            "  inflating: GlobalTemperatures.csv  \n"
          ]
        }
      ],
      "source": [
        "!pip install kaggle\n",
        "from google.colab import files\n",
        "\n",
        "# Upload your kaggle.json file here\n",
        "files.upload()\n",
        "\n",
        "# Create .kaggle directory and move kaggle.json to it\n",
        "!mkdir -p ~/.kaggle\n",
        "!cp kaggle.json ~/.kaggle/\n",
        "!chmod 600 ~/.kaggle/kaggle.json\n",
        "\n",
        "# Download the dataset from Kaggle\n",
        "!kaggle datasets download -d berkeleyearth/climate-change-earth-surface-temperature-data\n",
        "\n",
        "# Unzip the dataset\n",
        "!unzip climate-change-earth-surface-temperature-data.zip\n"
      ]
    },
    {
      "cell_type": "code",
      "source": [
        "import pandas as pd\n",
        "\n",
        "# Load the dataset\n",
        "df = pd.read_csv('GlobalLandTemperaturesByCity.csv')\n",
        "\n",
        "# Display the first few rows of the DataFrame\n",
        "print(df.head())"
      ],
      "metadata": {
        "colab": {
          "base_uri": "https://localhost:8080/"
        },
        "id": "eHTM0s5VxZZ7",
        "outputId": "c47ce4ea-e5f6-485e-d746-e653c4014d70"
      },
      "execution_count": null,
      "outputs": [
        {
          "output_type": "stream",
          "name": "stdout",
          "text": [
            "           dt  AverageTemperature  AverageTemperatureUncertainty   City  \\\n",
            "0  1743-11-01               6.068                          1.737  Århus   \n",
            "1  1743-12-01                 NaN                            NaN  Århus   \n",
            "2  1744-01-01                 NaN                            NaN  Århus   \n",
            "3  1744-02-01                 NaN                            NaN  Århus   \n",
            "4  1744-03-01                 NaN                            NaN  Århus   \n",
            "\n",
            "   Country Latitude Longitude  \n",
            "0  Denmark   57.05N    10.33E  \n",
            "1  Denmark   57.05N    10.33E  \n",
            "2  Denmark   57.05N    10.33E  \n",
            "3  Denmark   57.05N    10.33E  \n",
            "4  Denmark   57.05N    10.33E  \n"
          ]
        }
      ]
    },
    {
      "cell_type": "code",
      "source": [
        "import pandas as pd\n",
        "\n",
        "# Load dataset\n",
        "df = pd.read_csv('GlobalLandTemperaturesByCity.csv')\n",
        "\n",
        "# Drop rows with missing values\n",
        "df.dropna(inplace=True)\n",
        "\n",
        "# Convert 'dt' column to datetime\n",
        "df['dt'] = pd.to_datetime(df['dt'])\n",
        "\n",
        "# Save the cleaned data to a new CSV file\n",
        "df.to_csv('cleaned_global_land_temperatures.csv', index=False)\n",
        "\n",
        "# Display the first few rows of the cleaned data\n",
        "print(df.head())\n"
      ],
      "metadata": {
        "colab": {
          "base_uri": "https://localhost:8080/"
        },
        "id": "OUJSiLorxfSO",
        "outputId": "b4dc0777-c40e-43ce-e39e-3c4c38cfa387"
      },
      "execution_count": null,
      "outputs": [
        {
          "output_type": "stream",
          "name": "stdout",
          "text": [
            "          dt  AverageTemperature  AverageTemperatureUncertainty   City  \\\n",
            "0 1743-11-01               6.068                          1.737  Århus   \n",
            "5 1744-04-01               5.788                          3.624  Århus   \n",
            "6 1744-05-01              10.644                          1.283  Århus   \n",
            "7 1744-06-01              14.051                          1.347  Århus   \n",
            "8 1744-07-01              16.082                          1.396  Århus   \n",
            "\n",
            "   Country Latitude Longitude  \n",
            "0  Denmark   57.05N    10.33E  \n",
            "5  Denmark   57.05N    10.33E  \n",
            "6  Denmark   57.05N    10.33E  \n",
            "7  Denmark   57.05N    10.33E  \n",
            "8  Denmark   57.05N    10.33E  \n"
          ]
        }
      ]
    },
    {
      "cell_type": "code",
      "source": [
        "# Display summary statistics\n",
        "df.describe()\n",
        "\n",
        "# Check data types\n",
        "df.dtypes\n",
        "\n",
        "# Display basic information\n",
        "df.info()\n"
      ],
      "metadata": {
        "colab": {
          "base_uri": "https://localhost:8080/"
        },
        "id": "cM3Ss7PNzXfN",
        "outputId": "515f610c-88d0-4e20-9309-bb600db55bee"
      },
      "execution_count": null,
      "outputs": [
        {
          "output_type": "stream",
          "name": "stdout",
          "text": [
            "<class 'pandas.core.frame.DataFrame'>\n",
            "Index: 8235082 entries, 0 to 8599210\n",
            "Data columns (total 7 columns):\n",
            " #   Column                         Dtype         \n",
            "---  ------                         -----         \n",
            " 0   dt                             datetime64[ns]\n",
            " 1   AverageTemperature             float64       \n",
            " 2   AverageTemperatureUncertainty  float64       \n",
            " 3   City                           object        \n",
            " 4   Country                        object        \n",
            " 5   Latitude                       object        \n",
            " 6   Longitude                      object        \n",
            "dtypes: datetime64[ns](1), float64(2), object(4)\n",
            "memory usage: 502.6+ MB\n"
          ]
        }
      ]
    },
    {
      "cell_type": "code",
      "source": [
        "# Generate descriptive statistics for all variables, including categorical\n",
        "descriptive_stats_all = df.describe(include='all')\n",
        "\n",
        "# Display the descriptive statistics\n",
        "print(descriptive_stats_all)\n"
      ],
      "metadata": {
        "colab": {
          "base_uri": "https://localhost:8080/"
        },
        "id": "6brF5WLKzvxo",
        "outputId": "fa3cfd14-ca4b-46ad-fec1-07716605c6a4"
      },
      "execution_count": null,
      "outputs": [
        {
          "output_type": "stream",
          "name": "stdout",
          "text": [
            "                                   dt  AverageTemperature  \\\n",
            "count                         8235082        8.235082e+06   \n",
            "unique                            NaN                 NaN   \n",
            "top                               NaN                 NaN   \n",
            "freq                              NaN                 NaN   \n",
            "mean    1911-04-17 10:54:53.185130496        1.672743e+01   \n",
            "min               1743-11-01 00:00:00       -4.270400e+01   \n",
            "25%               1865-09-01 00:00:00        1.029900e+01   \n",
            "50%               1915-12-01 00:00:00        1.883100e+01   \n",
            "75%               1964-10-01 00:00:00        2.521000e+01   \n",
            "max               2013-09-01 00:00:00        3.965100e+01   \n",
            "std                               NaN        1.035344e+01   \n",
            "\n",
            "        AverageTemperatureUncertainty         City  Country Latitude Longitude  \n",
            "count                    8.235082e+06      8235082  8235082  8235082   8235082  \n",
            "unique                            NaN         3448      159       73      1227  \n",
            "top                               NaN  Springfield    India   36.17N   139.23E  \n",
            "freq                              NaN         9147   960548   418396    129280  \n",
            "mean                     1.028575e+00          NaN      NaN      NaN       NaN  \n",
            "min                      3.400000e-02          NaN      NaN      NaN       NaN  \n",
            "25%                      3.370000e-01          NaN      NaN      NaN       NaN  \n",
            "50%                      5.910000e-01          NaN      NaN      NaN       NaN  \n",
            "75%                      1.349000e+00          NaN      NaN      NaN       NaN  \n",
            "max                      1.539600e+01          NaN      NaN      NaN       NaN  \n",
            "std                      1.129733e+00          NaN      NaN      NaN       NaN  \n"
          ]
        }
      ]
    },
    {
      "cell_type": "code",
      "source": [
        "# Step 1: Get data types of each column\n",
        "data_types = df.dtypes\n",
        "print(\"Data Types:\")\n",
        "print(data_types)\n",
        "print()\n",
        "\n",
        "# Step 2: Determine time variance (if applicable)\n",
        "time_variant_columns = []\n",
        "for col in df.columns:\n",
        "    if pd.api.types.is_datetime64_any_dtype(df[col]):\n",
        "        time_variant_columns.append(col)\n",
        "        # Check if values are unique to determine if time variant or invariant\n",
        "        unique_values = df[col].nunique()\n",
        "        if unique_values > 1:\n",
        "            print(f\"Column '{col}' is time variant.\")\n",
        "        else:\n",
        "            print(f\"Column '{col}' is time invariant (constant value).\")\n",
        "    # Add more conditions as needed for specific time-related columns or formats\n",
        "\n",
        "print()\n",
        "\n",
        "# Step 3: Determine structure and type for each column\n",
        "for col in df.columns:\n",
        "    print(f\"Column: {col}\")\n",
        "\n",
        "    # Check structure (qualitative or quantitative)\n",
        "    if pd.api.types.is_categorical_dtype(df[col]) or df[col].dtype == 'object':\n",
        "        print(\"- Structure: Qualitative\")\n",
        "        # Check if qualitative is normal (nominal) or ordinal (ordered)\n",
        "        unique_values = df[col].nunique()\n",
        "        if unique_values > 10:\n",
        "            print(\"- Qualitative (Nominal) with over 10 unique values\")\n",
        "        else:\n",
        "            print(\"- Qualitative (Nominal) with\", unique_values, \"unique values\")\n",
        "    else:\n",
        "        print(\"- Structure: Quantitative\")\n",
        "        # Check if quantitative is discrete or continuous\n",
        "        if pd.api.types.is_numeric_dtype(df[col]):\n",
        "            if df[col].nunique() < 20:\n",
        "                print(\"- Quantitative (Discrete) with\", df[col].nunique(), \"unique values\")\n",
        "            else:\n",
        "                print(\"- Quantitative (Continuous)\")\n",
        "        else:\n",
        "            print(\"- Not a numeric type, may need further inspection for specific types\")\n",
        "\n",
        "    print()"
      ],
      "metadata": {
        "colab": {
          "base_uri": "https://localhost:8080/"
        },
        "id": "E1q_J81v0UWm",
        "outputId": "6abeb1ce-99b5-44fa-fcf9-dfe02e3426be"
      },
      "execution_count": null,
      "outputs": [
        {
          "output_type": "stream",
          "name": "stdout",
          "text": [
            "Data Types:\n",
            "dt                               datetime64[ns]\n",
            "AverageTemperature                      float64\n",
            "AverageTemperatureUncertainty           float64\n",
            "City                                     object\n",
            "Country                                  object\n",
            "Latitude                                 object\n",
            "Longitude                                object\n",
            "dtype: object\n",
            "\n",
            "Column 'dt' is time variant.\n",
            "\n",
            "Column: dt\n",
            "- Structure: Quantitative\n",
            "- Not a numeric type, may need further inspection for specific types\n",
            "\n",
            "Column: AverageTemperature\n",
            "- Structure: Quantitative\n",
            "- Quantitative (Continuous)\n",
            "\n",
            "Column: AverageTemperatureUncertainty\n",
            "- Structure: Quantitative\n",
            "- Quantitative (Continuous)\n",
            "\n",
            "Column: City\n",
            "- Structure: Qualitative\n",
            "- Qualitative (Nominal) with over 10 unique values\n",
            "\n",
            "Column: Country\n",
            "- Structure: Qualitative\n",
            "- Qualitative (Nominal) with over 10 unique values\n",
            "\n",
            "Column: Latitude\n",
            "- Structure: Qualitative\n",
            "- Qualitative (Nominal) with over 10 unique values\n",
            "\n",
            "Column: Longitude\n",
            "- Structure: Qualitative\n",
            "- Qualitative (Nominal) with over 10 unique values\n",
            "\n"
          ]
        }
      ]
    },
    {
      "cell_type": "code",
      "source": [
        "df.info()"
      ],
      "metadata": {
        "colab": {
          "base_uri": "https://localhost:8080/"
        },
        "id": "mBY248Or04R1",
        "outputId": "d6e5e587-b9ee-4867-96fa-58950189299e"
      },
      "execution_count": null,
      "outputs": [
        {
          "output_type": "stream",
          "name": "stdout",
          "text": [
            "<class 'pandas.core.frame.DataFrame'>\n",
            "Index: 8235082 entries, 0 to 8599210\n",
            "Data columns (total 7 columns):\n",
            " #   Column                         Dtype         \n",
            "---  ------                         -----         \n",
            " 0   dt                             datetime64[ns]\n",
            " 1   AverageTemperature             float64       \n",
            " 2   AverageTemperatureUncertainty  float64       \n",
            " 3   City                           object        \n",
            " 4   Country                        object        \n",
            " 5   Latitude                       object        \n",
            " 6   Longitude                      object        \n",
            "dtypes: datetime64[ns](1), float64(2), object(4)\n",
            "memory usage: 502.6+ MB\n"
          ]
        }
      ]
    }
  ]
}