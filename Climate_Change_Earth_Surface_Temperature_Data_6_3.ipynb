{
  "nbformat": 4,
  "nbformat_minor": 0,
  "metadata": {
    "colab": {
      "provenance": [],
      "authorship_tag": "ABX9TyMwJi8qOD2zmF/Daypg7VFg",
      "include_colab_link": true
    },
    "kernelspec": {
      "name": "python3",
      "display_name": "Python 3"
    },
    "language_info": {
      "name": "python"
    }
  },
  "cells": [
    {
      "cell_type": "markdown",
      "metadata": {
        "id": "view-in-github",
        "colab_type": "text"
      },
      "source": [
        "<a href=\"https://colab.research.google.com/github/Tiziano-Test/Climate-Change-Earth-Surface-Temperature-/blob/main/Climate_Change_Earth_Surface_Temperature_Data_6_3.ipynb\" target=\"_parent\"><img src=\"https://colab.research.google.com/assets/colab-badge.svg\" alt=\"Open In Colab\"/></a>"
      ]
    },
    {
      "cell_type": "code",
      "execution_count": null,
      "metadata": {
        "id": "53wB5ZgfEwTz"
      },
      "outputs": [],
      "source": [
        "6.3: Geographical Visualizations with Python"
      ]
    },
    {
      "cell_type": "markdown",
      "source": [
        "Step 1: Upload the Zip File to Colab"
      ],
      "metadata": {
        "id": "EM3tQ7vEE2pe"
      }
    },
    {
      "cell_type": "code",
      "source": [
        "!pip install kaggle\n",
        "from google.colab import files\n",
        "\n",
        "# Upload your kaggle.json file here\n",
        "files.upload()\n",
        "\n",
        "# Create .kaggle directory and move kaggle.json to it\n",
        "!mkdir -p ~/.kaggle\n",
        "!cp kaggle.json ~/.kaggle/\n",
        "!chmod 600 ~/.kaggle/kaggle.json\n",
        "\n",
        "# Download the dataset from Kaggle\n",
        "!kaggle datasets download -d berkeleyearth/climate-change-earth-surface-temperature-data\n",
        "\n",
        "# Unzip the dataset\n",
        "!unzip climate-change-earth-surface-temperature-data.zip"
      ],
      "metadata": {
        "colab": {
          "base_uri": "https://localhost:8080/",
          "height": 522
        },
        "id": "dc410TgZE3xP",
        "outputId": "54cddb85-ff3e-4b13-f106-5b709206e111"
      },
      "execution_count": null,
      "outputs": [
        {
          "output_type": "stream",
          "name": "stdout",
          "text": [
            "Requirement already satisfied: kaggle in /usr/local/lib/python3.10/dist-packages (1.6.14)\n",
            "Requirement already satisfied: six>=1.10 in /usr/local/lib/python3.10/dist-packages (from kaggle) (1.16.0)\n",
            "Requirement already satisfied: certifi>=2023.7.22 in /usr/local/lib/python3.10/dist-packages (from kaggle) (2024.6.2)\n",
            "Requirement already satisfied: python-dateutil in /usr/local/lib/python3.10/dist-packages (from kaggle) (2.8.2)\n",
            "Requirement already satisfied: requests in /usr/local/lib/python3.10/dist-packages (from kaggle) (2.31.0)\n",
            "Requirement already satisfied: tqdm in /usr/local/lib/python3.10/dist-packages (from kaggle) (4.66.4)\n",
            "Requirement already satisfied: python-slugify in /usr/local/lib/python3.10/dist-packages (from kaggle) (8.0.4)\n",
            "Requirement already satisfied: urllib3 in /usr/local/lib/python3.10/dist-packages (from kaggle) (2.0.7)\n",
            "Requirement already satisfied: bleach in /usr/local/lib/python3.10/dist-packages (from kaggle) (6.1.0)\n",
            "Requirement already satisfied: webencodings in /usr/local/lib/python3.10/dist-packages (from bleach->kaggle) (0.5.1)\n",
            "Requirement already satisfied: text-unidecode>=1.3 in /usr/local/lib/python3.10/dist-packages (from python-slugify->kaggle) (1.3)\n",
            "Requirement already satisfied: charset-normalizer<4,>=2 in /usr/local/lib/python3.10/dist-packages (from requests->kaggle) (3.3.2)\n",
            "Requirement already satisfied: idna<4,>=2.5 in /usr/local/lib/python3.10/dist-packages (from requests->kaggle) (3.7)\n"
          ]
        },
        {
          "output_type": "display_data",
          "data": {
            "text/plain": [
              "<IPython.core.display.HTML object>"
            ],
            "text/html": [
              "\n",
              "     <input type=\"file\" id=\"files-983a0b80-1ce9-4e55-a4c4-c63ab3f569c9\" name=\"files[]\" multiple disabled\n",
              "        style=\"border:none\" />\n",
              "     <output id=\"result-983a0b80-1ce9-4e55-a4c4-c63ab3f569c9\">\n",
              "      Upload widget is only available when the cell has been executed in the\n",
              "      current browser session. Please rerun this cell to enable.\n",
              "      </output>\n",
              "      <script>// Copyright 2017 Google LLC\n",
              "//\n",
              "// Licensed under the Apache License, Version 2.0 (the \"License\");\n",
              "// you may not use this file except in compliance with the License.\n",
              "// You may obtain a copy of the License at\n",
              "//\n",
              "//      http://www.apache.org/licenses/LICENSE-2.0\n",
              "//\n",
              "// Unless required by applicable law or agreed to in writing, software\n",
              "// distributed under the License is distributed on an \"AS IS\" BASIS,\n",
              "// WITHOUT WARRANTIES OR CONDITIONS OF ANY KIND, either express or implied.\n",
              "// See the License for the specific language governing permissions and\n",
              "// limitations under the License.\n",
              "\n",
              "/**\n",
              " * @fileoverview Helpers for google.colab Python module.\n",
              " */\n",
              "(function(scope) {\n",
              "function span(text, styleAttributes = {}) {\n",
              "  const element = document.createElement('span');\n",
              "  element.textContent = text;\n",
              "  for (const key of Object.keys(styleAttributes)) {\n",
              "    element.style[key] = styleAttributes[key];\n",
              "  }\n",
              "  return element;\n",
              "}\n",
              "\n",
              "// Max number of bytes which will be uploaded at a time.\n",
              "const MAX_PAYLOAD_SIZE = 100 * 1024;\n",
              "\n",
              "function _uploadFiles(inputId, outputId) {\n",
              "  const steps = uploadFilesStep(inputId, outputId);\n",
              "  const outputElement = document.getElementById(outputId);\n",
              "  // Cache steps on the outputElement to make it available for the next call\n",
              "  // to uploadFilesContinue from Python.\n",
              "  outputElement.steps = steps;\n",
              "\n",
              "  return _uploadFilesContinue(outputId);\n",
              "}\n",
              "\n",
              "// This is roughly an async generator (not supported in the browser yet),\n",
              "// where there are multiple asynchronous steps and the Python side is going\n",
              "// to poll for completion of each step.\n",
              "// This uses a Promise to block the python side on completion of each step,\n",
              "// then passes the result of the previous step as the input to the next step.\n",
              "function _uploadFilesContinue(outputId) {\n",
              "  const outputElement = document.getElementById(outputId);\n",
              "  const steps = outputElement.steps;\n",
              "\n",
              "  const next = steps.next(outputElement.lastPromiseValue);\n",
              "  return Promise.resolve(next.value.promise).then((value) => {\n",
              "    // Cache the last promise value to make it available to the next\n",
              "    // step of the generator.\n",
              "    outputElement.lastPromiseValue = value;\n",
              "    return next.value.response;\n",
              "  });\n",
              "}\n",
              "\n",
              "/**\n",
              " * Generator function which is called between each async step of the upload\n",
              " * process.\n",
              " * @param {string} inputId Element ID of the input file picker element.\n",
              " * @param {string} outputId Element ID of the output display.\n",
              " * @return {!Iterable<!Object>} Iterable of next steps.\n",
              " */\n",
              "function* uploadFilesStep(inputId, outputId) {\n",
              "  const inputElement = document.getElementById(inputId);\n",
              "  inputElement.disabled = false;\n",
              "\n",
              "  const outputElement = document.getElementById(outputId);\n",
              "  outputElement.innerHTML = '';\n",
              "\n",
              "  const pickedPromise = new Promise((resolve) => {\n",
              "    inputElement.addEventListener('change', (e) => {\n",
              "      resolve(e.target.files);\n",
              "    });\n",
              "  });\n",
              "\n",
              "  const cancel = document.createElement('button');\n",
              "  inputElement.parentElement.appendChild(cancel);\n",
              "  cancel.textContent = 'Cancel upload';\n",
              "  const cancelPromise = new Promise((resolve) => {\n",
              "    cancel.onclick = () => {\n",
              "      resolve(null);\n",
              "    };\n",
              "  });\n",
              "\n",
              "  // Wait for the user to pick the files.\n",
              "  const files = yield {\n",
              "    promise: Promise.race([pickedPromise, cancelPromise]),\n",
              "    response: {\n",
              "      action: 'starting',\n",
              "    }\n",
              "  };\n",
              "\n",
              "  cancel.remove();\n",
              "\n",
              "  // Disable the input element since further picks are not allowed.\n",
              "  inputElement.disabled = true;\n",
              "\n",
              "  if (!files) {\n",
              "    return {\n",
              "      response: {\n",
              "        action: 'complete',\n",
              "      }\n",
              "    };\n",
              "  }\n",
              "\n",
              "  for (const file of files) {\n",
              "    const li = document.createElement('li');\n",
              "    li.append(span(file.name, {fontWeight: 'bold'}));\n",
              "    li.append(span(\n",
              "        `(${file.type || 'n/a'}) - ${file.size} bytes, ` +\n",
              "        `last modified: ${\n",
              "            file.lastModifiedDate ? file.lastModifiedDate.toLocaleDateString() :\n",
              "                                    'n/a'} - `));\n",
              "    const percent = span('0% done');\n",
              "    li.appendChild(percent);\n",
              "\n",
              "    outputElement.appendChild(li);\n",
              "\n",
              "    const fileDataPromise = new Promise((resolve) => {\n",
              "      const reader = new FileReader();\n",
              "      reader.onload = (e) => {\n",
              "        resolve(e.target.result);\n",
              "      };\n",
              "      reader.readAsArrayBuffer(file);\n",
              "    });\n",
              "    // Wait for the data to be ready.\n",
              "    let fileData = yield {\n",
              "      promise: fileDataPromise,\n",
              "      response: {\n",
              "        action: 'continue',\n",
              "      }\n",
              "    };\n",
              "\n",
              "    // Use a chunked sending to avoid message size limits. See b/62115660.\n",
              "    let position = 0;\n",
              "    do {\n",
              "      const length = Math.min(fileData.byteLength - position, MAX_PAYLOAD_SIZE);\n",
              "      const chunk = new Uint8Array(fileData, position, length);\n",
              "      position += length;\n",
              "\n",
              "      const base64 = btoa(String.fromCharCode.apply(null, chunk));\n",
              "      yield {\n",
              "        response: {\n",
              "          action: 'append',\n",
              "          file: file.name,\n",
              "          data: base64,\n",
              "        },\n",
              "      };\n",
              "\n",
              "      let percentDone = fileData.byteLength === 0 ?\n",
              "          100 :\n",
              "          Math.round((position / fileData.byteLength) * 100);\n",
              "      percent.textContent = `${percentDone}% done`;\n",
              "\n",
              "    } while (position < fileData.byteLength);\n",
              "  }\n",
              "\n",
              "  // All done.\n",
              "  yield {\n",
              "    response: {\n",
              "      action: 'complete',\n",
              "    }\n",
              "  };\n",
              "}\n",
              "\n",
              "scope.google = scope.google || {};\n",
              "scope.google.colab = scope.google.colab || {};\n",
              "scope.google.colab._files = {\n",
              "  _uploadFiles,\n",
              "  _uploadFilesContinue,\n",
              "};\n",
              "})(self);\n",
              "</script> "
            ]
          },
          "metadata": {}
        },
        {
          "output_type": "stream",
          "name": "stdout",
          "text": [
            "Saving Global Land Temperatures By City.zip to Global Land Temperatures By City.zip\n",
            "cp: cannot stat 'kaggle.json': No such file or directory\n",
            "chmod: cannot access '/root/.kaggle/kaggle.json': No such file or directory\n",
            "Dataset URL: https://www.kaggle.com/datasets/berkeleyearth/climate-change-earth-surface-temperature-data\n",
            "License(s): CC-BY-NC-SA-4.0\n",
            "Downloading climate-change-earth-surface-temperature-data.zip to /content\n",
            " 90% 76.0M/84.7M [00:00<00:00, 113MB/s]\n",
            "100% 84.7M/84.7M [00:00<00:00, 108MB/s]\n",
            "Archive:  climate-change-earth-surface-temperature-data.zip\n",
            "  inflating: GlobalLandTemperaturesByCity.csv  \n",
            "  inflating: GlobalLandTemperaturesByCountry.csv  \n",
            "  inflating: GlobalLandTemperaturesByMajorCity.csv  \n",
            "  inflating: GlobalLandTemperaturesByState.csv  \n",
            "  inflating: GlobalTemperatures.csv  \n"
          ]
        }
      ]
    },
    {
      "cell_type": "markdown",
      "source": [
        "Step 2: Load the CSV Files into DataFrames"
      ],
      "metadata": {
        "id": "7YFx-gs_IYnb"
      }
    },
    {
      "cell_type": "code",
      "source": [
        "import pandas as pd\n",
        "import seaborn as sns\n",
        "import matplotlib.pyplot as plt\n",
        "\n",
        "# Set seaborn style\n",
        "sns.set(style=\"whitegrid\")\n",
        "\n",
        "# Load the CSV files into dataframes\n",
        "global_temp_by_city = pd.read_csv('GlobalLandTemperaturesByCity.csv')\n",
        "global_temp_by_country = pd.read_csv('GlobalLandTemperaturesByCountry.csv')\n",
        "global_temp_by_major_city = pd.read_csv('GlobalLandTemperaturesByMajorCity.csv')\n",
        "global_temp_by_state = pd.read_csv('GlobalLandTemperaturesByState.csv')\n",
        "global_temp = pd.read_csv('GlobalTemperatures.csv')\n",
        "\n",
        "# Display the first few rows of each dataset to understand their structure\n",
        "print(\"GlobalLandTemperaturesByCity\")\n",
        "print(global_temp_by_city.head())\n",
        "\n",
        "print(\"\\nGlobalLandTemperaturesByCountry\")\n",
        "print(global_temp_by_country.head())\n",
        "\n",
        "print(\"\\nGlobalLandTemperaturesByMajorCity\")\n",
        "print(global_temp_by_major_city.head())\n",
        "\n",
        "print(\"\\nGlobalLandTemperaturesByState\")\n",
        "print(global_temp_by_state.head())\n",
        "\n",
        "print(\"\\nGlobalTemperatures\")\n",
        "print(global_temp.head())\n"
      ],
      "metadata": {
        "colab": {
          "base_uri": "https://localhost:8080/"
        },
        "id": "Bf5Z2i9dIZXX",
        "outputId": "4595cbfe-107d-43c9-a952-3c7843d0afd7"
      },
      "execution_count": null,
      "outputs": [
        {
          "output_type": "stream",
          "name": "stdout",
          "text": [
            "GlobalLandTemperaturesByCity\n",
            "           dt  AverageTemperature  AverageTemperatureUncertainty   City  \\\n",
            "0  1743-11-01               6.068                          1.737  Århus   \n",
            "1  1743-12-01                 NaN                            NaN  Århus   \n",
            "2  1744-01-01                 NaN                            NaN  Århus   \n",
            "3  1744-02-01                 NaN                            NaN  Århus   \n",
            "4  1744-03-01                 NaN                            NaN  Århus   \n",
            "\n",
            "   Country Latitude Longitude  \n",
            "0  Denmark   57.05N    10.33E  \n",
            "1  Denmark   57.05N    10.33E  \n",
            "2  Denmark   57.05N    10.33E  \n",
            "3  Denmark   57.05N    10.33E  \n",
            "4  Denmark   57.05N    10.33E  \n",
            "\n",
            "GlobalLandTemperaturesByCountry\n",
            "           dt  AverageTemperature  AverageTemperatureUncertainty Country\n",
            "0  1743-11-01               4.384                          2.294   Åland\n",
            "1  1743-12-01                 NaN                            NaN   Åland\n",
            "2  1744-01-01                 NaN                            NaN   Åland\n",
            "3  1744-02-01                 NaN                            NaN   Åland\n",
            "4  1744-03-01                 NaN                            NaN   Åland\n",
            "\n",
            "GlobalLandTemperaturesByMajorCity\n",
            "           dt  AverageTemperature  AverageTemperatureUncertainty     City  \\\n",
            "0  1849-01-01              26.704                          1.435  Abidjan   \n",
            "1  1849-02-01              27.434                          1.362  Abidjan   \n",
            "2  1849-03-01              28.101                          1.612  Abidjan   \n",
            "3  1849-04-01              26.140                          1.387  Abidjan   \n",
            "4  1849-05-01              25.427                          1.200  Abidjan   \n",
            "\n",
            "         Country Latitude Longitude  \n",
            "0  Côte D'Ivoire    5.63N     3.23W  \n",
            "1  Côte D'Ivoire    5.63N     3.23W  \n",
            "2  Côte D'Ivoire    5.63N     3.23W  \n",
            "3  Côte D'Ivoire    5.63N     3.23W  \n",
            "4  Côte D'Ivoire    5.63N     3.23W  \n",
            "\n",
            "GlobalLandTemperaturesByState\n",
            "           dt  AverageTemperature  AverageTemperatureUncertainty State Country\n",
            "0  1855-05-01              25.544                          1.171  Acre  Brazil\n",
            "1  1855-06-01              24.228                          1.103  Acre  Brazil\n",
            "2  1855-07-01              24.371                          1.044  Acre  Brazil\n",
            "3  1855-08-01              25.427                          1.073  Acre  Brazil\n",
            "4  1855-09-01              25.675                          1.014  Acre  Brazil\n",
            "\n",
            "GlobalTemperatures\n",
            "           dt  LandAverageTemperature  LandAverageTemperatureUncertainty  \\\n",
            "0  1750-01-01                   3.034                              3.574   \n",
            "1  1750-02-01                   3.083                              3.702   \n",
            "2  1750-03-01                   5.626                              3.076   \n",
            "3  1750-04-01                   8.490                              2.451   \n",
            "4  1750-05-01                  11.573                              2.072   \n",
            "\n",
            "   LandMaxTemperature  LandMaxTemperatureUncertainty  LandMinTemperature  \\\n",
            "0                 NaN                            NaN                 NaN   \n",
            "1                 NaN                            NaN                 NaN   \n",
            "2                 NaN                            NaN                 NaN   \n",
            "3                 NaN                            NaN                 NaN   \n",
            "4                 NaN                            NaN                 NaN   \n",
            "\n",
            "   LandMinTemperatureUncertainty  LandAndOceanAverageTemperature  \\\n",
            "0                            NaN                             NaN   \n",
            "1                            NaN                             NaN   \n",
            "2                            NaN                             NaN   \n",
            "3                            NaN                             NaN   \n",
            "4                            NaN                             NaN   \n",
            "\n",
            "   LandAndOceanAverageTemperatureUncertainty  \n",
            "0                                        NaN  \n",
            "1                                        NaN  \n",
            "2                                        NaN  \n",
            "3                                        NaN  \n",
            "4                                        NaN  \n"
          ]
        }
      ]
    },
    {
      "cell_type": "markdown",
      "source": [
        "Step 3: Import Required Libraries"
      ],
      "metadata": {
        "id": "h8-tudMNIr_P"
      }
    },
    {
      "cell_type": "code",
      "source": [
        "import pandas as pd\n",
        "import folium\n",
        "from folium.plugins import HeatMap\n",
        "import json\n",
        "\n",
        "# For handling JSON/GeoJSON data\n",
        "import requests\n"
      ],
      "metadata": {
        "id": "7S2yqo7vJl9l"
      },
      "execution_count": null,
      "outputs": []
    },
    {
      "cell_type": "markdown",
      "source": [
        "Step 4: Load and Wrangle Data\n",
        "\n",
        "I'll focus on the GlobalLandTemperaturesByCountry.csv for the choropleth map, as it provides country-level temperature data."
      ],
      "metadata": {
        "id": "5KUZruyRJuKS"
      }
    },
    {
      "cell_type": "code",
      "source": [
        "# Load the CSV file into a dataframe\n",
        "global_temp_by_country = pd.read_csv('GlobalLandTemperaturesByCountry.csv')\n",
        "\n",
        "# Display the first few rows of the dataset to understand its structure\n",
        "print(global_temp_by_country.head())\n"
      ],
      "metadata": {
        "colab": {
          "base_uri": "https://localhost:8080/"
        },
        "id": "fJg3A6CPJwiv",
        "outputId": "dbccf552-81fb-4feb-f1ab-7524ee159857"
      },
      "execution_count": null,
      "outputs": [
        {
          "output_type": "stream",
          "name": "stdout",
          "text": [
            "           dt  AverageTemperature  AverageTemperatureUncertainty Country\n",
            "0  1743-11-01               4.384                          2.294   Åland\n",
            "1  1743-12-01                 NaN                            NaN   Åland\n",
            "2  1744-01-01                 NaN                            NaN   Åland\n",
            "3  1744-02-01                 NaN                            NaN   Åland\n",
            "4  1744-03-01                 NaN                            NaN   Åland\n"
          ]
        }
      ]
    },
    {
      "cell_type": "markdown",
      "source": [
        "Step 5:\n",
        "\n",
        "We need to clean the data to remove missing values and calculate average temperatures for last 100 years."
      ],
      "metadata": {
        "id": "-KuDKC1LJ5mU"
      }
    },
    {
      "cell_type": "code",
      "source": [
        "# Convert 'dt' column to datetime\n",
        "global_temp_by_country['dt'] = pd.to_datetime(global_temp_by_country['dt'])\n",
        "\n",
        "# Extract year from the 'dt' column\n",
        "global_temp_by_country['Year'] = global_temp_by_country['dt'].dt.year\n",
        "\n",
        "# Filter data for the last 100 years\n",
        "recent_data = global_temp_by_country[global_temp_by_country['Year'] >= global_temp_by_country['Year'].max() - 100]\n",
        "\n",
        "# Calculate the average temperature by country for the last 100 years\n",
        "avg_temp_by_country = recent_data.groupby('Country')['AverageTemperature'].mean().reset_index()\n",
        "\n",
        "# Rename columns for better understanding\n",
        "avg_temp_by_country.columns = ['Country', 'AverageTemperature']\n",
        "\n",
        "print(avg_temp_by_country.head())\n"
      ],
      "metadata": {
        "colab": {
          "base_uri": "https://localhost:8080/"
        },
        "id": "rgIzDgStKAsJ",
        "outputId": "780824a4-4839-4e21-c6f5-52dbfbed4156"
      },
      "execution_count": null,
      "outputs": [
        {
          "output_type": "stream",
          "name": "stdout",
          "text": [
            "          Country  AverageTemperature\n",
            "0     Afghanistan           14.297799\n",
            "1          Africa           24.311560\n",
            "2         Albania           12.944224\n",
            "3         Algeria           23.344309\n",
            "4  American Samoa           26.788945\n"
          ]
        }
      ]
    },
    {
      "cell_type": "markdown",
      "source": [
        "Step 6: Create a Choropleth Map\n",
        "\n",
        "We'll use folium to create a choropleth map. We'll need a GeoJSON file that contains the geographical boundaries of the countries."
      ],
      "metadata": {
        "id": "h6esRi2lKhwx"
      }
    },
    {
      "cell_type": "code",
      "source": [
        "# Download GeoJSON file with country boundaries\n",
        "url = 'https://raw.githubusercontent.com/python-visualization/folium/master/examples/data/world-countries.json'\n",
        "response = requests.get(url)\n",
        "world_geo = response.json()\n",
        "\n",
        "# Create a base map\n",
        "m = folium.Map(location=[0, 0], zoom_start=2)\n",
        "\n",
        "# Create the choropleth map\n",
        "folium.Choropleth(\n",
        "    geo_data=world_geo,\n",
        "    name='choropleth',\n",
        "    data=avg_temp_by_country,\n",
        "    columns=['Country', 'AverageTemperature'],\n",
        "    key_on='feature.properties.name',\n",
        "    fill_color='YlOrRd',\n",
        "    fill_opacity=0.7,\n",
        "    line_opacity=0.2,\n",
        "    legend_name='Average Temperature (°C)'\n",
        ").add_to(m)\n",
        "\n",
        "# Add layer control\n",
        "folium.LayerControl().add_to(m)\n",
        "\n",
        "# Save the map as an HTML file\n",
        "map_path = '/content/choropleth_map.html'\n",
        "m.save(map_path)\n",
        "\n",
        "# Download the HTML file\n",
        "files.download(map_path)\n"
      ],
      "metadata": {
        "colab": {
          "base_uri": "https://localhost:8080/",
          "height": 17
        },
        "id": "57IOO8lCKnnH",
        "outputId": "6ae488d9-4390-4178-964e-ec195c18f0f6"
      },
      "execution_count": null,
      "outputs": [
        {
          "output_type": "display_data",
          "data": {
            "text/plain": [
              "<IPython.core.display.Javascript object>"
            ],
            "application/javascript": [
              "\n",
              "    async function download(id, filename, size) {\n",
              "      if (!google.colab.kernel.accessAllowed) {\n",
              "        return;\n",
              "      }\n",
              "      const div = document.createElement('div');\n",
              "      const label = document.createElement('label');\n",
              "      label.textContent = `Downloading \"${filename}\": `;\n",
              "      div.appendChild(label);\n",
              "      const progress = document.createElement('progress');\n",
              "      progress.max = size;\n",
              "      div.appendChild(progress);\n",
              "      document.body.appendChild(div);\n",
              "\n",
              "      const buffers = [];\n",
              "      let downloaded = 0;\n",
              "\n",
              "      const channel = await google.colab.kernel.comms.open(id);\n",
              "      // Send a message to notify the kernel that we're ready.\n",
              "      channel.send({})\n",
              "\n",
              "      for await (const message of channel.messages) {\n",
              "        // Send a message to notify the kernel that we're ready.\n",
              "        channel.send({})\n",
              "        if (message.buffers) {\n",
              "          for (const buffer of message.buffers) {\n",
              "            buffers.push(buffer);\n",
              "            downloaded += buffer.byteLength;\n",
              "            progress.value = downloaded;\n",
              "          }\n",
              "        }\n",
              "      }\n",
              "      const blob = new Blob(buffers, {type: 'application/binary'});\n",
              "      const a = document.createElement('a');\n",
              "      a.href = window.URL.createObjectURL(blob);\n",
              "      a.download = filename;\n",
              "      div.appendChild(a);\n",
              "      a.click();\n",
              "      div.remove();\n",
              "    }\n",
              "  "
            ]
          },
          "metadata": {}
        },
        {
          "output_type": "display_data",
          "data": {
            "text/plain": [
              "<IPython.core.display.Javascript object>"
            ],
            "application/javascript": [
              "download(\"download_df0efd99-3ea8-4dbe-bf2d-e667e793301f\", \"choropleth_map.html\", 302077)"
            ]
          },
          "metadata": {}
        }
      ]
    },
    {
      "cell_type": "markdown",
      "source": [
        "Step 7: Analyze Results and Answer Research Questions\n",
        "\n",
        "Open the generated choropleth_map.html file to view the map."
      ],
      "metadata": {
        "id": "cXlKtIdQK8XT"
      }
    },
    {
      "cell_type": "markdown",
      "source": [
        "The creation of the previous choropleth map partially answers some of the existing research questions and highlights areas for further investigation. Here is an analysis based on the created map and potential new research questions that arise from it:\n",
        "Existing Research Questions Addressed\n",
        "\n",
        "    Geographical Analysis:\n",
        "        Which regions experience the highest average temperatures?\n",
        "            The choropleth map shows that regions near the equator, particularly in Africa, South America, and Southeast Asia, experience the highest average temperatures. These regions are highlighted in dark red on the map.\n",
        "        How do temperature variations differ between continents?\n",
        "            The map indicates that continents such as Africa and South America generally experience higher average temperatures compared to continents like Europe and North America. This visual differentiation provides a clear geographical understanding of temperature distribution across continents.\n",
        "\n",
        "    Temperature Trends:\n",
        "        The map does not directly indicate specific cities or countries where temperature changes are more pronounced over time. This requires a detailed trend analysis for each city or country.\n",
        "\n",
        "New Research Questions\n",
        "\n",
        "The choropleth map brings up some new questions and areas for deeper investigation:\n",
        "\n",
        "    Temperature Extremes:\n",
        "        Why do certain regions like North America and parts of Europe appear to have relatively lower average temperatures despite the ongoing global warming trend?\n",
        "        Are there specific climatic or geographical factors contributing to these observations?\n",
        "\n",
        "    Impact on Ecosystems and Populations:\n",
        "        How do the high average temperatures in equatorial regions affect local ecosystems and human populations?\n",
        "        Are there observable patterns of migration or changes in biodiversity in these regions as a result of higher temperatures?\n",
        "\n",
        "    Regional Anomalies:\n",
        "        Are there any regions that deviate significantly from the expected temperature patterns based on their geographical location? For example, why do some areas in high latitude regions show higher average temperatures than others?\n",
        "\n",
        "    Urban vs. Rural Temperature Differences:\n",
        "        How do temperatures in major cities compare to rural areas within the same country or region? Is there a noticeable urban heat island effect?\n",
        "\n",
        "    Seasonal and Temporal Patterns:\n",
        "        How do seasonal temperature variations contribute to the overall average temperatures depicted on the map?\n",
        "        Are there regions where seasonal temperature variations are more extreme compared to others?"
      ],
      "metadata": {
        "id": "UMPbiSAMQCHo"
      }
    }
  ]
}